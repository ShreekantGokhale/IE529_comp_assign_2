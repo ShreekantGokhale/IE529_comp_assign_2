{
 "cells": [
  {
   "cell_type": "code",
   "execution_count": 1,
   "metadata": {},
   "outputs": [],
   "source": [
    "import pandas as pd\n",
    "import numpy as np\n",
    "import matplotlib.pyplot as plt\n",
    "from sklearn.cluster import KMeans"
   ]
  },
  {
   "cell_type": "code",
   "execution_count": 2,
   "metadata": {},
   "outputs": [],
   "source": [
    "def distances(data):\n",
    "    dist_mat = np.matrix(np.zeros((data.shape[0],data.shape[0])))\n",
    "    for i in range(data.shape[0]):\n",
    "         a = data - data.loc[i]\n",
    "         dist_mat[i,:] = np.linalg.norm(a, axis=1)\n",
    "    return dist_mat"
   ]
  },
  {
   "cell_type": "code",
   "execution_count": 4,
   "metadata": {},
   "outputs": [],
   "source": [
    "def K_nearest(K_near, dist_mat):\n",
    "    K_mat = dist_mat.copy()\n",
    "    for i in range(dist_mat.shape[0]):\n",
    "        K_mat[i,:] = np.zeros((dist_mat.shape[1]))\n",
    "        rev_sort = np.argsort(dist_mat[i,:])\n",
    "        max_val_loc = rev_sort[0,-K_near:].tolist()\n",
    "        K_mat[i,max_val_loc] = dist_mat[i,max_val_loc]\n",
    "    return K_mat "
   ]
  },
  {
   "cell_type": "code",
   "execution_count": 5,
   "metadata": {},
   "outputs": [],
   "source": [
    "def spectral_cluster(data,sigma,k, K_near):\n",
    "    dist_mat = distances(data)\n",
    "    a = 2*(np.power(sigma,2))\n",
    "    W_ = np.exp(-((np.power(dist_mat,2)/a)))\n",
    "    W_ = W_-np.eye(W_.shape[0])\n",
    "    K_mat = K_nearest(K_near, W_)\n",
    "    K_mat = K_nearest(K_near, K_mat.T).T\n",
    "    cond_T = np.multiply((K_mat == np.zeros(K_mat.shape)).astype(int),K_mat.T)\n",
    "    W_ = K_mat + cond_T\n",
    "    D = np.matrix(np.zeros(W_.shape))\n",
    "    for i in range(W_.shape[0]):\n",
    "        D[i,i] = np.sum(W_[i,:])\n",
    "    L = D-W_\n",
    "    eig_val, eig_vect = np.linalg.eig(L)\n",
    "    index_arr = np.argsort(eig_val)\n",
    "    var = eig_val[index_arr]\n",
    "    eig_vect = eig_vect[:,index_arr]\n",
    "    data_new = pd.DataFrame(eig_vect[:,:k])\n",
    "    \n",
    "    return data_new "
   ]
  },
  {
   "cell_type": "code",
   "execution_count": 18,
   "metadata": {},
   "outputs": [],
   "source": [
    "def voronoi(data, centroid):\n",
    "    C = []\n",
    "    for i in range(data.shape[0]):\n",
    "        min_dist = 100000\n",
    "        \n",
    "        for j in range(centroid.shape[0]):\n",
    "            a = data.iloc[i,:] - centroid.iloc[j,:]\n",
    "            dist = np.linalg.norm(a) # gives 2 norm for the elements of list\n",
    "            if (dist < min_dist):\n",
    "                min_id = j\n",
    "                min_dist = dist\n",
    "        C.append(min_id)\n",
    "    return C     "
   ]
  },
  {
   "cell_type": "code",
   "execution_count": 19,
   "metadata": {},
   "outputs": [],
   "source": [
    "def cluster_cen(data,C):\n",
    "    X = data.copy()\n",
    "    X[\"C\"] = C\n",
    "    new_cen = X.groupby([\"C\"]).mean()\n",
    "    return new_cen"
   ]
  },
  {
   "cell_type": "code",
   "execution_count": 20,
   "metadata": {},
   "outputs": [],
   "source": [
    "def cost(data, C, centroid):\n",
    "    tot_dist = 0\n",
    "    for i in range(data.shape[0]):\n",
    "        a = data.iloc[i,:] - centroid.iloc[C[i],:]\n",
    "        tot_dist += (np.linalg.norm(a))**2\n",
    "    return tot_dist"
   ]
  },
  {
   "cell_type": "code",
   "execution_count": 21,
   "metadata": {},
   "outputs": [],
   "source": [
    "def k_means(data,k):\n",
    "    centroid = data.sample(k)\n",
    "    cen_diff = 10\n",
    "    while(np.linalg.norm(cen_diff) > 0):\n",
    "        C = voronoi(data, centroid)\n",
    "        new_cen = cluster_cen(data,C)\n",
    "        cen_diff = []\n",
    "        for i in range(centroid.shape[0]):\n",
    "            temp = new_cen.iloc[i,:] - centroid.iloc[i,:]\n",
    "            cen_diff = temp\n",
    "        centroid = new_cen\n",
    "    price = cost(data, C, centroid)\n",
    "    return C, centroid, price"
   ]
  },
  {
   "cell_type": "code",
   "execution_count": 22,
   "metadata": {},
   "outputs": [],
   "source": [
    "data1 = pd.read_csv(f\"Shape CSV.csv\", header = None)\n",
    "new_data = spectral_cluster(data1,0.1,4,100)\n",
    "C, centroid, price = k_means(new_data,4)"
   ]
  },
  {
   "cell_type": "code",
   "execution_count": 23,
   "metadata": {},
   "outputs": [
    {
     "data": {
      "text/html": [
       "<div>\n",
       "<style scoped>\n",
       "    .dataframe tbody tr th:only-of-type {\n",
       "        vertical-align: middle;\n",
       "    }\n",
       "\n",
       "    .dataframe tbody tr th {\n",
       "        vertical-align: top;\n",
       "    }\n",
       "\n",
       "    .dataframe thead th {\n",
       "        text-align: right;\n",
       "    }\n",
       "</style>\n",
       "<table border=\"1\" class=\"dataframe\">\n",
       "  <thead>\n",
       "    <tr style=\"text-align: right;\">\n",
       "      <th></th>\n",
       "      <th>0</th>\n",
       "      <th>1</th>\n",
       "      <th>2</th>\n",
       "      <th>3</th>\n",
       "    </tr>\n",
       "    <tr>\n",
       "      <th>C</th>\n",
       "      <th></th>\n",
       "      <th></th>\n",
       "      <th></th>\n",
       "      <th></th>\n",
       "    </tr>\n",
       "  </thead>\n",
       "  <tbody>\n",
       "    <tr>\n",
       "      <th>0</th>\n",
       "      <td>0.025802</td>\n",
       "      <td>0.013536</td>\n",
       "      <td>3.059832e-04</td>\n",
       "      <td>0.013349</td>\n",
       "    </tr>\n",
       "    <tr>\n",
       "      <th>1</th>\n",
       "      <td>0.000002</td>\n",
       "      <td>-0.000048</td>\n",
       "      <td>3.161447e-02</td>\n",
       "      <td>-0.000372</td>\n",
       "    </tr>\n",
       "    <tr>\n",
       "      <th>2</th>\n",
       "      <td>-0.012293</td>\n",
       "      <td>0.022798</td>\n",
       "      <td>3.269987e-07</td>\n",
       "      <td>0.000018</td>\n",
       "    </tr>\n",
       "    <tr>\n",
       "      <th>3</th>\n",
       "      <td>0.011586</td>\n",
       "      <td>0.006668</td>\n",
       "      <td>-6.600171e-04</td>\n",
       "      <td>-0.028789</td>\n",
       "    </tr>\n",
       "  </tbody>\n",
       "</table>\n",
       "</div>"
      ],
      "text/plain": [
       "          0         1             2         3\n",
       "C                                            \n",
       "0  0.025802  0.013536  3.059832e-04  0.013349\n",
       "1  0.000002 -0.000048  3.161447e-02 -0.000372\n",
       "2 -0.012293  0.022798  3.269987e-07  0.000018\n",
       "3  0.011586  0.006668 -6.600171e-04 -0.028789"
      ]
     },
     "execution_count": 23,
     "metadata": {},
     "output_type": "execute_result"
    }
   ],
   "source": [
    "centroid"
   ]
  },
  {
   "cell_type": "code",
   "execution_count": 24,
   "metadata": {},
   "outputs": [],
   "source": [
    "# C"
   ]
  },
  {
   "cell_type": "code",
   "execution_count": 25,
   "metadata": {},
   "outputs": [
    {
     "data": {
      "image/png": "[encoded data removed]",
      "text/plain": [
       "<Figure size 432x288 with 1 Axes>"
      ]
     },
     "metadata": {
      "needs_background": "light"
     },
     "output_type": "display_data"
    }
   ],
   "source": [
    "color = ['y', 'blue', 'green', 'cyan', 'black', 'brown']\n",
    "for m in range(len(color)):\n",
    "    id = []\n",
    "    for i in range(len(C)):\n",
    "        if (C[i] == m):\n",
    "            id.append(i)\n",
    "    plt.scatter(data1.loc[id][0],data1.loc[id][1], c = color[m])"
   ]
  },
  {
   "cell_type": "code",
   "execution_count": 28,
   "metadata": {},
   "outputs": [],
   "source": [
    "data2 = pd.read_csv(f\"clustering.csv\", header = None)\n",
    "new_data1 = spectral_cluster(data2,0.5,2,50)\n",
    "C1, centroid, price = k_means(new_data1,2)"
   ]
  },
  {
   "cell_type": "code",
   "execution_count": 29,
   "metadata": {},
   "outputs": [
    {
     "data": {
      "image/png": "[encoded data removed]",
      "text/plain": [
       "<Figure size 432x288 with 1 Axes>"
      ]
     },
     "metadata": {
      "needs_background": "light"
     },
     "output_type": "display_data"
    }
   ],
   "source": [
    "color = ['y', 'blue', 'green', 'cyan', 'black', 'brown']\n",
    "for m in range(len(color)):\n",
    "    id = []\n",
    "    for i in range(len(C1)):\n",
    "        if (C1[i] == m):\n",
    "            id.append(i)\n",
    "    plt.scatter(data2.loc[id][0],data2.loc[id][1], c = color[m])"
   ]
  },
  {
   "cell_type": "code",
   "execution_count": null,
   "metadata": {},
   "outputs": [],
   "source": []
  }
 ],
 "metadata": {
  "interpreter": {
   "hash": "9c1d554bbbf5939e85784b545543330c9c662cffcdb9e2fa11929ee44fe0ea0d"
  },
  "kernelspec": {
   "display_name": "Python 3.8.8 64-bit ('virtPenv': conda)",
   "language": "python",
   "name": "python3"
  },
  "language_info": {
   "codemirror_mode": {
    "name": "ipython",
    "version": 3
   },
   "file_extension": ".py",
   "mimetype": "text/x-python",
   "name": "python",
   "nbconvert_exporter": "python",
   "pygments_lexer": "ipython3",
   "version": "3.8.8"
  },
  "orig_nbformat": 4
 },
 "nbformat": 4,
 "nbformat_minor": 2
}
