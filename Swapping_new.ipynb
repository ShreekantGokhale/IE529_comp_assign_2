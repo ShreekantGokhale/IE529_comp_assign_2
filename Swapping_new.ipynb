{
 "cells": [
  {
   "cell_type": "code",
   "execution_count": 46,
   "metadata": {},
   "outputs": [],
   "source": [
    "import pandas as pd\n",
    "import numpy as np\n",
    "import matplotlib.pyplot as plt\n",
    "from random import sample"
   ]
  },
  {
   "cell_type": "code",
   "execution_count": 47,
   "metadata": {},
   "outputs": [],
   "source": [
    "def distances(data):\n",
    "    dist_mat = np.matrix(np.zeros((data.shape[0],data.shape[0])))\n",
    "    for i in range(data.shape[0]):\n",
    "         a = data - data.loc[i]\n",
    "         dist_mat[i,:] = np.linalg.norm(a, axis=1)\n",
    "    return dist_mat"
   ]
  },
  {
   "cell_type": "code",
   "execution_count": 48,
   "metadata": {},
   "outputs": [],
   "source": [
    "def greedyk(data, k):\n",
    "    dist_mat = distances(data)\n",
    "    centroid = data.sample()\n",
    "    while (centroid.shape[0] < k):\n",
    "        next_cen_loc = np.argmax(np.min(dist_mat[:,centroid.index],axis = 1))        \n",
    "        centroid = centroid.append(data.loc[next_cen_loc])\n",
    "    C = np.argmin(dist_mat[:,centroid.index],axis = 1)\n",
    "    price = np.max(np.min(dist_mat[:,centroid.index],axis = 1))\n",
    "    return centroid, C, price"
   ]
  },
  {
   "cell_type": "code",
   "execution_count": 49,
   "metadata": {},
   "outputs": [],
   "source": [
    "def swapping(data, centroid, price, tau, dist_mat):\n",
    "    rem_data = data.drop(labels=centroid.index)\n",
    "    c = price\n",
    "    new_cen = centroid.copy()\n",
    "    for i in range(centroid.shape[0]):\n",
    "        #print(\"#\"*80)\n",
    "        j_ = 5000\n",
    "        new_cen = new_cen.drop(labels=centroid.index[i])\n",
    "        \n",
    "        for j in rem_data.index:\n",
    "            new_cen = new_cen.append(rem_data.loc[j])\n",
    "            new_price = np.sum(np.min(dist_mat[:,new_cen.index],axis = 1))\n",
    "            if (new_price < (1-tau)*c):\n",
    "                c = new_price\n",
    "                j_ = j\n",
    "                #print(j_)\n",
    "\n",
    "            new_cen = new_cen.drop(labels=j)\n",
    "        #print(\"*\"*80)\n",
    "        print(j_)\n",
    "\n",
    "        if (j_ != 5000):\n",
    "            new_cen = new_cen.append(rem_data.loc[j_])\n",
    "            rem_data = rem_data.drop(labels=j_)\n",
    "            #print(new_cen.shape)\n",
    "        elif (j_ == 5000):\n",
    "            new_cen = new_cen.append(centroid.loc[centroid.index[i]])\n",
    "            #print(new_cen.shape)\n",
    "\n",
    "\n",
    "    return new_cen"
   ]
  },
  {
   "cell_type": "code",
   "execution_count": 50,
   "metadata": {},
   "outputs": [],
   "source": [
    "data = pd.read_csv(f\"clustering.csv\", header = None)\n",
    "Q, C, price = greedyk(data, 2)\n",
    "dist_mat = distances(data)\n",
    "cost = np.sum(np.min(dist_mat[:,Q.index],axis = 1))"
   ]
  },
  {
   "cell_type": "code",
   "execution_count": 51,
   "metadata": {},
   "outputs": [
    {
     "data": {
      "text/html": [
       "<div>\n",
       "<style scoped>\n",
       "    .dataframe tbody tr th:only-of-type {\n",
       "        vertical-align: middle;\n",
       "    }\n",
       "\n",
       "    .dataframe tbody tr th {\n",
       "        vertical-align: top;\n",
       "    }\n",
       "\n",
       "    .dataframe thead th {\n",
       "        text-align: right;\n",
       "    }\n",
       "</style>\n",
       "<table border=\"1\" class=\"dataframe\">\n",
       "  <thead>\n",
       "    <tr style=\"text-align: right;\">\n",
       "      <th></th>\n",
       "      <th>0</th>\n",
       "      <th>1</th>\n",
       "    </tr>\n",
       "  </thead>\n",
       "  <tbody>\n",
       "    <tr>\n",
       "      <th>1602</th>\n",
       "      <td>6.3455</td>\n",
       "      <td>1.3337</td>\n",
       "    </tr>\n",
       "    <tr>\n",
       "      <th>642</th>\n",
       "      <td>-3.6773</td>\n",
       "      <td>-3.5965</td>\n",
       "    </tr>\n",
       "  </tbody>\n",
       "</table>\n",
       "</div>"
      ],
      "text/plain": [
       "           0       1\n",
       "1602  6.3455  1.3337\n",
       "642  -3.6773 -3.5965"
      ]
     },
     "execution_count": 51,
     "metadata": {},
     "output_type": "execute_result"
    }
   ],
   "source": [
    "Q"
   ]
  },
  {
   "cell_type": "code",
   "execution_count": 52,
   "metadata": {},
   "outputs": [
    {
     "data": {
      "text/plain": [
       "<matplotlib.collections.PathCollection at 0x1bec1ec24c0>"
      ]
     },
     "execution_count": 52,
     "metadata": {},
     "output_type": "execute_result"
    },
    {
     "data": {
      "image/png": "[encoded data removed]",
      "text/plain": [
       "<Figure size 432x288 with 1 Axes>"
      ]
     },
     "metadata": {
      "needs_background": "light"
     },
     "output_type": "display_data"
    }
   ],
   "source": [
    "color = ['y', 'blue', 'green', 'cyan', 'black', 'brown']\n",
    "for m in range(len(color)):\n",
    "    id = []\n",
    "    for i in range(len(C)):\n",
    "        if (C[i] == m):\n",
    "            id.append(i)\n",
    "    plt.scatter(data.loc[id][0],data.loc[id][1], c = color[m])\n",
    "plt.scatter(Q.loc[:][0],Q.loc[:][1], c = 'r')"
   ]
  },
  {
   "cell_type": "code",
   "execution_count": 53,
   "metadata": {},
   "outputs": [
    {
     "data": {
      "text/plain": [
       "6590.232202685413"
      ]
     },
     "execution_count": 53,
     "metadata": {},
     "output_type": "execute_result"
    }
   ],
   "source": [
    "cost"
   ]
  },
  {
   "cell_type": "code",
   "execution_count": 54,
   "metadata": {},
   "outputs": [
    {
     "name": "stdout",
     "output_type": "stream",
     "text": [
      "1013\n",
      "6\n"
     ]
    }
   ],
   "source": [
    "new_cen = swapping(data,Q,cost,0.05,dist_mat)"
   ]
  },
  {
   "cell_type": "code",
   "execution_count": 55,
   "metadata": {},
   "outputs": [
    {
     "data": {
      "text/html": [
       "<div>\n",
       "<style scoped>\n",
       "    .dataframe tbody tr th:only-of-type {\n",
       "        vertical-align: middle;\n",
       "    }\n",
       "\n",
       "    .dataframe tbody tr th {\n",
       "        vertical-align: top;\n",
       "    }\n",
       "\n",
       "    .dataframe thead th {\n",
       "        text-align: right;\n",
       "    }\n",
       "</style>\n",
       "<table border=\"1\" class=\"dataframe\">\n",
       "  <thead>\n",
       "    <tr style=\"text-align: right;\">\n",
       "      <th></th>\n",
       "      <th>0</th>\n",
       "      <th>1</th>\n",
       "    </tr>\n",
       "  </thead>\n",
       "  <tbody>\n",
       "    <tr>\n",
       "      <th>1013</th>\n",
       "      <td>3.882800</td>\n",
       "      <td>1.07680</td>\n",
       "    </tr>\n",
       "    <tr>\n",
       "      <th>6</th>\n",
       "      <td>0.010661</td>\n",
       "      <td>0.20867</td>\n",
       "    </tr>\n",
       "  </tbody>\n",
       "</table>\n",
       "</div>"
      ],
      "text/plain": [
       "             0        1\n",
       "1013  3.882800  1.07680\n",
       "6     0.010661  0.20867"
      ]
     },
     "execution_count": 55,
     "metadata": {},
     "output_type": "execute_result"
    }
   ],
   "source": [
    "new_cen"
   ]
  },
  {
   "cell_type": "code",
   "execution_count": 56,
   "metadata": {},
   "outputs": [
    {
     "data": {
      "text/plain": [
       "7.845884656939585"
      ]
     },
     "execution_count": 56,
     "metadata": {},
     "output_type": "execute_result"
    }
   ],
   "source": [
    "price"
   ]
  },
  {
   "cell_type": "code",
   "execution_count": 57,
   "metadata": {},
   "outputs": [
    {
     "data": {
      "text/plain": [
       "<matplotlib.collections.PathCollection at 0x1bec2055790>"
      ]
     },
     "execution_count": 57,
     "metadata": {},
     "output_type": "execute_result"
    },
    {
     "data": {
      "image/png": "[encoded data removed]",
      "text/plain": [
       "<Figure size 432x288 with 1 Axes>"
      ]
     },
     "metadata": {
      "needs_background": "light"
     },
     "output_type": "display_data"
    }
   ],
   "source": [
    "C = np.argmin(dist_mat[:,new_cen.index],axis = 1)\n",
    "color = ['y', 'blue', 'green', 'cyan', 'black', 'brown']\n",
    "for m in range(len(color)):\n",
    "    id = []\n",
    "    for i in range(len(C)):\n",
    "        if (C[i] == m):\n",
    "            id.append(i)\n",
    "    plt.scatter(data.loc[id][0],data.loc[id][1], c = color[m])\n",
    "plt.scatter(new_cen.loc[:][0],new_cen.loc[:][1], c = 'r')"
   ]
  },
  {
   "cell_type": "code",
   "execution_count": 58,
   "metadata": {},
   "outputs": [],
   "source": [
    "cost = np.sum(np.min(dist_mat[:,new_cen.index],axis = 1))"
   ]
  },
  {
   "cell_type": "code",
   "execution_count": 59,
   "metadata": {},
   "outputs": [
    {
     "data": {
      "text/plain": [
       "3332.0467913021835"
      ]
     },
     "execution_count": 59,
     "metadata": {},
     "output_type": "execute_result"
    }
   ],
   "source": [
    "cost"
   ]
  },
  {
   "cell_type": "code",
   "execution_count": 60,
   "metadata": {},
   "outputs": [],
   "source": [
    "data1 =  pd.read_csv(f\"Shape CSV.csv\", header = None)\n",
    "Q1, C1, price1 = greedyk(data1, 4)\n",
    "dist_mat1 = distances(data1)\n",
    "cost1 = np.sum(np.min(dist_mat1[:,Q.index],axis = 1))"
   ]
  },
  {
   "cell_type": "code",
   "execution_count": 61,
   "metadata": {},
   "outputs": [
    {
     "data": {
      "text/html": [
       "<div>\n",
       "<style scoped>\n",
       "    .dataframe tbody tr th:only-of-type {\n",
       "        vertical-align: middle;\n",
       "    }\n",
       "\n",
       "    .dataframe tbody tr th {\n",
       "        vertical-align: top;\n",
       "    }\n",
       "\n",
       "    .dataframe thead th {\n",
       "        text-align: right;\n",
       "    }\n",
       "</style>\n",
       "<table border=\"1\" class=\"dataframe\">\n",
       "  <thead>\n",
       "    <tr style=\"text-align: right;\">\n",
       "      <th></th>\n",
       "      <th>0</th>\n",
       "      <th>1</th>\n",
       "    </tr>\n",
       "  </thead>\n",
       "  <tbody>\n",
       "    <tr>\n",
       "      <th>1043</th>\n",
       "      <td>-0.37755</td>\n",
       "      <td>-0.313080</td>\n",
       "    </tr>\n",
       "    <tr>\n",
       "      <th>2577</th>\n",
       "      <td>3.08110</td>\n",
       "      <td>6.756500</td>\n",
       "    </tr>\n",
       "    <tr>\n",
       "      <th>3078</th>\n",
       "      <td>7.16500</td>\n",
       "      <td>0.066071</td>\n",
       "    </tr>\n",
       "    <tr>\n",
       "      <th>643</th>\n",
       "      <td>0.71578</td>\n",
       "      <td>-6.051500</td>\n",
       "    </tr>\n",
       "  </tbody>\n",
       "</table>\n",
       "</div>"
      ],
      "text/plain": [
       "            0         1\n",
       "1043 -0.37755 -0.313080\n",
       "2577  3.08110  6.756500\n",
       "3078  7.16500  0.066071\n",
       "643   0.71578 -6.051500"
      ]
     },
     "execution_count": 61,
     "metadata": {},
     "output_type": "execute_result"
    }
   ],
   "source": [
    "Q1"
   ]
  },
  {
   "cell_type": "code",
   "execution_count": 62,
   "metadata": {},
   "outputs": [
    {
     "data": {
      "text/plain": [
       "<matplotlib.collections.PathCollection at 0x1bec1ec2d60>"
      ]
     },
     "execution_count": 62,
     "metadata": {},
     "output_type": "execute_result"
    },
    {
     "data": {
      "image/png": "[encoded data removed]",
      "text/plain": [
       "<Figure size 432x288 with 1 Axes>"
      ]
     },
     "metadata": {
      "needs_background": "light"
     },
     "output_type": "display_data"
    }
   ],
   "source": [
    "color = ['y', 'blue', 'green', 'cyan', 'black', 'brown']\n",
    "for m in range(len(color)):\n",
    "    id = []\n",
    "    for i in range(len(C1)):\n",
    "        if (C1[i] == m):\n",
    "            id.append(i)\n",
    "    plt.scatter(data1.loc[id][0],data1.loc[id][1], c = color[m])\n",
    "plt.scatter(Q1.loc[:][0],Q1.loc[:][1], c = 'r')"
   ]
  },
  {
   "cell_type": "code",
   "execution_count": 63,
   "metadata": {},
   "outputs": [
    {
     "data": {
      "text/plain": [
       "19555.253131803824"
      ]
     },
     "execution_count": 63,
     "metadata": {},
     "output_type": "execute_result"
    }
   ],
   "source": [
    "cost1"
   ]
  },
  {
   "cell_type": "code",
   "execution_count": 64,
   "metadata": {},
   "outputs": [
    {
     "name": "stdout",
     "output_type": "stream",
     "text": [
      "5\n",
      "11\n",
      "6\n",
      "13\n"
     ]
    }
   ],
   "source": [
    "new_cen1 = swapping(data1,Q1,cost1,0.05,dist_mat1)"
   ]
  },
  {
   "cell_type": "code",
   "execution_count": 65,
   "metadata": {},
   "outputs": [
    {
     "data": {
      "text/html": [
       "<div>\n",
       "<style scoped>\n",
       "    .dataframe tbody tr th:only-of-type {\n",
       "        vertical-align: middle;\n",
       "    }\n",
       "\n",
       "    .dataframe tbody tr th {\n",
       "        vertical-align: top;\n",
       "    }\n",
       "\n",
       "    .dataframe thead th {\n",
       "        text-align: right;\n",
       "    }\n",
       "</style>\n",
       "<table border=\"1\" class=\"dataframe\">\n",
       "  <thead>\n",
       "    <tr style=\"text-align: right;\">\n",
       "      <th></th>\n",
       "      <th>0</th>\n",
       "      <th>1</th>\n",
       "    </tr>\n",
       "  </thead>\n",
       "  <tbody>\n",
       "    <tr>\n",
       "      <th>5</th>\n",
       "      <td>0.09688</td>\n",
       "      <td>-0.65587</td>\n",
       "    </tr>\n",
       "    <tr>\n",
       "      <th>11</th>\n",
       "      <td>3.25160</td>\n",
       "      <td>3.90680</td>\n",
       "    </tr>\n",
       "    <tr>\n",
       "      <th>6</th>\n",
       "      <td>5.01300</td>\n",
       "      <td>-1.94690</td>\n",
       "    </tr>\n",
       "    <tr>\n",
       "      <th>13</th>\n",
       "      <td>0.35551</td>\n",
       "      <td>-3.15250</td>\n",
       "    </tr>\n",
       "  </tbody>\n",
       "</table>\n",
       "</div>"
      ],
      "text/plain": [
       "          0        1\n",
       "5   0.09688 -0.65587\n",
       "11  3.25160  3.90680\n",
       "6   5.01300 -1.94690\n",
       "13  0.35551 -3.15250"
      ]
     },
     "execution_count": 65,
     "metadata": {},
     "output_type": "execute_result"
    }
   ],
   "source": [
    "new_cen1"
   ]
  },
  {
   "cell_type": "code",
   "execution_count": 66,
   "metadata": {},
   "outputs": [
    {
     "data": {
      "text/plain": [
       "<matplotlib.collections.PathCollection at 0x1bec21269d0>"
      ]
     },
     "execution_count": 66,
     "metadata": {},
     "output_type": "execute_result"
    },
    {
     "data": {
      "image/png": "[encoded data removed]",
      "text/plain": [
       "<Figure size 432x288 with 1 Axes>"
      ]
     },
     "metadata": {
      "needs_background": "light"
     },
     "output_type": "display_data"
    }
   ],
   "source": [
    "C1 = np.argmin(dist_mat1[:,new_cen1.index],axis = 1)\n",
    "color = ['y', 'blue', 'green', 'cyan', 'black', 'brown']\n",
    "for m in range(len(color)):\n",
    "    id = []\n",
    "    for i in range(len(C1)):\n",
    "        if (C1[i] == m):\n",
    "            id.append(i)\n",
    "    plt.scatter(data1.loc[id][0],data1.loc[id][1], c = color[m])\n",
    "plt.scatter(new_cen1.loc[:][0],new_cen1.loc[:][1], c = 'r')"
   ]
  },
  {
   "cell_type": "code",
   "execution_count": null,
   "metadata": {},
   "outputs": [],
   "source": []
  }
 ],
 "metadata": {
  "interpreter": {
   "hash": "9c1d554bbbf5939e85784b545543330c9c662cffcdb9e2fa11929ee44fe0ea0d"
  },
  "kernelspec": {
   "display_name": "Python 3.8.8 64-bit ('virtPenv': conda)",
   "language": "python",
   "name": "python3"
  },
  "language_info": {
   "codemirror_mode": {
    "name": "ipython",
    "version": 3
   },
   "file_extension": ".py",
   "mimetype": "text/x-python",
   "name": "python",
   "nbconvert_exporter": "python",
   "pygments_lexer": "ipython3",
   "version": "3.8.8"
  },
  "orig_nbformat": 4
 },
 "nbformat": 4,
 "nbformat_minor": 2
}
