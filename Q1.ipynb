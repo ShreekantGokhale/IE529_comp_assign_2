{
 "cells": [
  {
   "cell_type": "code",
   "execution_count": 112,
   "metadata": {},
   "outputs": [],
   "source": [
    "import pandas as pd\n",
    "import numpy as np\n",
    "import matplotlib.pyplot as plt\n",
    "from random import sample"
   ]
  },
  {
   "cell_type": "code",
   "execution_count": 113,
   "metadata": {},
   "outputs": [],
   "source": [
    "def voronoi(data, centroid):\n",
    "    C = []\n",
    "    for i in range(data.shape[0]):\n",
    "        min_dist = 100000\n",
    "        \n",
    "        for j in range(centroid.shape[0]):\n",
    "            a = data.iloc[i,:] - centroid.iloc[j,:]\n",
    "            dist = np.linalg.norm(a) # gives 2 norm for the elements of list\n",
    "            if (dist < min_dist):\n",
    "                min_id = j\n",
    "                min_dist = dist\n",
    "        C.append(min_id)\n",
    "    return C     "
   ]
  },
  {
   "cell_type": "code",
   "execution_count": 114,
   "metadata": {},
   "outputs": [],
   "source": [
    "def cluster_cen(data,C):\n",
    "    X = data.copy()\n",
    "    X[\"C\"] = C\n",
    "    new_cen = X.groupby([\"C\"]).mean()\n",
    "    return new_cen"
   ]
  },
  {
   "cell_type": "code",
   "execution_count": 115,
   "metadata": {},
   "outputs": [],
   "source": [
    "def cost(data, C, centroid):\n",
    "    tot_dist = 0\n",
    "    for i in range(data.shape[0]):\n",
    "        a = data.iloc[i,:] - centroid.iloc[C[i],:]\n",
    "        tot_dist += (np.linalg.norm(a))**2\n",
    "    return tot_dist"
   ]
  },
  {
   "cell_type": "code",
   "execution_count": 116,
   "metadata": {},
   "outputs": [],
   "source": [
    "def k_means(data,k):\n",
    "    centroid = data.sample(k)\n",
    "    cen_diff = 10\n",
    "    while(np.linalg.norm(cen_diff) > 0):\n",
    "        C = voronoi(data, centroid)\n",
    "        new_cen = cluster_cen(data,C)\n",
    "        cen_diff = []\n",
    "        for i in range(centroid.shape[0]):\n",
    "            temp = new_cen.iloc[i,:] - centroid.iloc[i,:]\n",
    "            cen_diff = temp\n",
    "        centroid = new_cen\n",
    "    ObjVal = cost(data, C, centroid)\n",
    "    return C, centroid, ObjVal"
   ]
  },
  {
   "cell_type": "code",
   "execution_count": 117,
   "metadata": {},
   "outputs": [],
   "source": [
    "data = pd.read_csv(f\"clustering.csv\", header = None)"
   ]
  },
  {
   "cell_type": "code",
   "execution_count": 118,
   "metadata": {},
   "outputs": [],
   "source": [
    "C, centroid, price = k_means(data,2)"
   ]
  },
  {
   "cell_type": "code",
   "execution_count": 119,
   "metadata": {},
   "outputs": [
    {
     "data": {
      "image/png": "[encoded data removed]",
      "text/plain": [
       "<Figure size 432x288 with 1 Axes>"
      ]
     },
     "metadata": {
      "needs_background": "light"
     },
     "output_type": "display_data"
    }
   ],
   "source": [
    "color = ['y', 'blue', 'green', 'cyan', 'black', 'brown']\n",
    "for m in range(len(color)):\n",
    "    id = []\n",
    "    for i in range(len(C)):\n",
    "        if (C[i] == m):\n",
    "            id.append(i)\n",
    "    plt.scatter(data.loc[id][0],data.loc[id][1], c = color[m])\n",
    "    plt.scatter(centroid.loc[:][0],centroid.loc[:][1], c = 'r')"
   ]
  },
  {
   "cell_type": "code",
   "execution_count": 120,
   "metadata": {},
   "outputs": [
    {
     "data": {
      "text/html": [
       "<div>\n",
       "<style scoped>\n",
       "    .dataframe tbody tr th:only-of-type {\n",
       "        vertical-align: middle;\n",
       "    }\n",
       "\n",
       "    .dataframe tbody tr th {\n",
       "        vertical-align: top;\n",
       "    }\n",
       "\n",
       "    .dataframe thead th {\n",
       "        text-align: right;\n",
       "    }\n",
       "</style>\n",
       "<table border=\"1\" class=\"dataframe\">\n",
       "  <thead>\n",
       "    <tr style=\"text-align: right;\">\n",
       "      <th></th>\n",
       "      <th>0</th>\n",
       "      <th>1</th>\n",
       "    </tr>\n",
       "    <tr>\n",
       "      <th>C</th>\n",
       "      <th></th>\n",
       "      <th></th>\n",
       "    </tr>\n",
       "  </thead>\n",
       "  <tbody>\n",
       "    <tr>\n",
       "      <th>0</th>\n",
       "      <td>-0.215933</td>\n",
       "      <td>-0.062983</td>\n",
       "    </tr>\n",
       "    <tr>\n",
       "      <th>1</th>\n",
       "      <td>4.808335</td>\n",
       "      <td>1.053857</td>\n",
       "    </tr>\n",
       "  </tbody>\n",
       "</table>\n",
       "</div>"
      ],
      "text/plain": [
       "          0         1\n",
       "C                    \n",
       "0 -0.215933 -0.062983\n",
       "1  4.808335  1.053857"
      ]
     },
     "execution_count": 120,
     "metadata": {},
     "output_type": "execute_result"
    }
   ],
   "source": [
    "centroid"
   ]
  },
  {
   "cell_type": "code",
   "execution_count": 121,
   "metadata": {},
   "outputs": [
    {
     "data": {
      "text/plain": [
       "6020.25724859508"
      ]
     },
     "execution_count": 121,
     "metadata": {},
     "output_type": "execute_result"
    }
   ],
   "source": [
    "price"
   ]
  },
  {
   "cell_type": "code",
   "execution_count": 122,
   "metadata": {},
   "outputs": [],
   "source": [
    "data1 =  pd.read_csv(f\"Shape CSV.csv\", header = None)"
   ]
  },
  {
   "cell_type": "code",
   "execution_count": 123,
   "metadata": {},
   "outputs": [],
   "source": [
    "C1, centroid1, price1 = k_means(data1,4)"
   ]
  },
  {
   "cell_type": "code",
   "execution_count": 124,
   "metadata": {},
   "outputs": [
    {
     "data": {
      "image/png": "[encoded data removed]",
      "text/plain": [
       "<Figure size 432x288 with 1 Axes>"
      ]
     },
     "metadata": {
      "needs_background": "light"
     },
     "output_type": "display_data"
    }
   ],
   "source": [
    "color = ['y', 'blue', 'green', 'cyan', 'black', 'brown']\n",
    "for m in range(len(color)):\n",
    "    id = []\n",
    "    for i in range(len(C)):\n",
    "        if (C1[i] == m):\n",
    "            id.append(i)\n",
    "    plt.scatter(data1.loc[id][0],data1.loc[id][1], c = color[m])\n",
    "    plt.scatter(centroid1.loc[:][0],centroid1.loc[:][1], c = 'r')"
   ]
  },
  {
   "cell_type": "code",
   "execution_count": 125,
   "metadata": {},
   "outputs": [
    {
     "data": {
      "text/html": [
       "<div>\n",
       "<style scoped>\n",
       "    .dataframe tbody tr th:only-of-type {\n",
       "        vertical-align: middle;\n",
       "    }\n",
       "\n",
       "    .dataframe tbody tr th {\n",
       "        vertical-align: top;\n",
       "    }\n",
       "\n",
       "    .dataframe thead th {\n",
       "        text-align: right;\n",
       "    }\n",
       "</style>\n",
       "<table border=\"1\" class=\"dataframe\">\n",
       "  <thead>\n",
       "    <tr style=\"text-align: right;\">\n",
       "      <th></th>\n",
       "      <th>0</th>\n",
       "      <th>1</th>\n",
       "    </tr>\n",
       "    <tr>\n",
       "      <th>C</th>\n",
       "      <th></th>\n",
       "      <th></th>\n",
       "    </tr>\n",
       "  </thead>\n",
       "  <tbody>\n",
       "    <tr>\n",
       "      <th>0</th>\n",
       "      <td>2.508227</td>\n",
       "      <td>4.295376</td>\n",
       "    </tr>\n",
       "    <tr>\n",
       "      <th>1</th>\n",
       "      <td>5.022215</td>\n",
       "      <td>-0.490464</td>\n",
       "    </tr>\n",
       "    <tr>\n",
       "      <th>2</th>\n",
       "      <td>0.553067</td>\n",
       "      <td>0.624116</td>\n",
       "    </tr>\n",
       "    <tr>\n",
       "      <th>3</th>\n",
       "      <td>-0.380149</td>\n",
       "      <td>-3.478974</td>\n",
       "    </tr>\n",
       "  </tbody>\n",
       "</table>\n",
       "</div>"
      ],
      "text/plain": [
       "          0         1\n",
       "C                    \n",
       "0  2.508227  4.295376\n",
       "1  5.022215 -0.490464\n",
       "2  0.553067  0.624116\n",
       "3 -0.380149 -3.478974"
      ]
     },
     "execution_count": 125,
     "metadata": {},
     "output_type": "execute_result"
    }
   ],
   "source": [
    "centroid1"
   ]
  },
  {
   "cell_type": "code",
   "execution_count": 126,
   "metadata": {},
   "outputs": [
    {
     "data": {
      "text/plain": [
       "14319.040677503675"
      ]
     },
     "execution_count": 126,
     "metadata": {},
     "output_type": "execute_result"
    }
   ],
   "source": [
    "price1"
   ]
  }
 ],
 "metadata": {
  "interpreter": {
   "hash": "9c1d554bbbf5939e85784b545543330c9c662cffcdb9e2fa11929ee44fe0ea0d"
  },
  "kernelspec": {
   "display_name": "Python 3.8.8 64-bit ('virtPenv': conda)",
   "language": "python",
   "name": "python3"
  },
  "language_info": {
   "codemirror_mode": {
    "name": "ipython",
    "version": 3
   },
   "file_extension": ".py",
   "mimetype": "text/x-python",
   "name": "python",
   "nbconvert_exporter": "python",
   "pygments_lexer": "ipython3",
   "version": "3.8.8"
  },
  "orig_nbformat": 4
 },
 "nbformat": 4,
 "nbformat_minor": 2
}
